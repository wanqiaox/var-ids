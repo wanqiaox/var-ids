{
 "cells": [
  {
   "cell_type": "code",
   "execution_count": null,
   "metadata": {
    "cellView": "form",
    "id": "8xlRiTrzSKSh"
   },
   "outputs": [],
   "source": [
    "#@title Imports\n",
    "from typing import Optional\n",
    "\n",
    "import abc\n",
    "import numpy as np\n",
    "from scipy.stats import beta\n",
    "import random\n",
    "import pandas as pd\n",
    "import plotnine as gg\n",
    "import matplotlib.pyplot as plt\n",
    "import pylab\n",
    "import scipy.signal as signal\n",
    "\n",
    "colors = {0: 'b',\n",
    "          1: 'g',\n",
    "          2: 'r',\n",
    "          3: 'c',\n",
    "          4: 'm',\n",
    "          5: 'y',\n",
    "          6: 'k'}"
   ]
  },
  {
   "cell_type": "markdown",
   "metadata": {},
   "source": [
    "# Value-IDS"
   ]
  },
  {
   "cell_type": "code",
   "execution_count": null,
   "metadata": {},
   "outputs": [],
   "source": [
    "#@title Graph Environment\n",
    "\n",
    "class Graph(object):\n",
    "\tdef __init__(self,\n",
    "\t\t\t\t transitions_deterministic=True,\n",
    "\t\t\t\t max_length = 2,\n",
    "                 rewarding_state = None):\n",
    "\t\tself.allowable_actions = [0,1]\n",
    "\t\tself.n_actions = len(self.allowable_actions)\n",
    "\t\tself.n_dim = 2*max_length - 1\n",
    "\t\tsplit = np.array_split(np.arange(2, 2*max_length)-1, -1)\n",
    "\t\tself.max_length = max_length\n",
    "        self.rewarding_state = rewarding_state # TODO: need to generate at random; store in the informative state\n",
    "\t\tself.info = None\n",
    "        \n",
    "        mask = np.eye(2*max_length - 1)\n",
    "        mask[rewarding_state] = np.ones(2*max_length - 1)\n",
    "        self.mask = mask\n",
    "        \n",
    "        self.reset()\n",
    "\n",
    "\tdef num_states(self):\n",
    "\t\treturn self.n_dim\n",
    "\n",
    "\tdef pos_to_image(self, x):\n",
    "\t\t'''latent state -> representation '''\n",
    "\t\treturn x\n",
    "\n",
    "\tdef reset(self):\n",
    "\t\tself.state = 0\n",
    "\t\tself.done = False\n",
    "\t\treturn np.array([self.state])\n",
    "\n",
    "\tdef step(self, action):\n",
    "\t\tassert action in self.allowable_actions\n",
    "\t\tassert not self.done, 'Episode Over'\n",
    "\t\treward = 0 if not self.stochastic_rewards else np.random.randn()\n",
    "\t\tprev_state = self.state\n",
    "        \n",
    "        if self.state == (self.rewarding_state) and (action == 1):\n",
    "            reward = 1\n",
    "        else:\n",
    "            reward = 0\n",
    "\n",
    "\t\tif self.state == (2*self.max_length-3):\n",
    "            self.state = 0\n",
    "            self.done = True\n",
    "        elif self.state == (2*self.max_length-2):\n",
    "\t\t\tself.state = 0\n",
    "            self.info = self.rewarding_state\n",
    "\t\t\tself.done = True\n",
    "\t\telse:\n",
    "\t\t\tif self.state % 2 == 1:\n",
    "                self.state = self.state + 2\n",
    "            else:\n",
    "                if action == 0:\n",
    "                    self.state = self.state + 2\n",
    "                else:\n",
    "                    self.state = self.state + 1\n",
    "\n",
    "\t\tstate = self.state\n",
    "\n",
    "\t\treturn np.array([self.state]), reward, self.info, self.done, {}\n",
    "\n",
    "\tdef render(self, a=None, r=None, return_arr=False):\n",
    "\t\tstart_state = 1 if self.state == 0 else 0\n",
    "\t\tstate = np.zeros(2*self.max_length-2)\n",
    "\t\tend_state = 1 if self.state == (2*self.max_length-1) else 0\n",
    "\n",
    "\t\tif not start_state and not end_state:\n",
    "\t\t\tstate[self.state-1] = 1\n",
    "\n",
    "\t\tif return_arr:\n",
    "\t\t\treturn start_state, state.reshape(2,self.max_length-1, order='F'), end_state\n",
    "\t\telse:\n",
    "\n",
    "\t\t\tprint(' ', ' '.join(state.reshape(2,self.max_length-1, order='F')[0].astype(int).astype(str).tolist()), '  ')\n",
    "\t\t\tif (a is not None) and (r is not None):\n",
    "\t\t\t\tprint(start_state, ' '*((2*(self.max_length-2))+1), end_state, ' (a,r): ', (a,r), '.  If POMDP, End state: ', end_state)\n",
    "\t\t\telse:\n",
    "\t\t\t\tprint(start_state, ' '*((2*(self.max_length-2))+1), end_state)\n",
    "\t\t\tprint(' ', ' '.join(state.reshape(2,self.max_length-1, order='F')[1].astype(int).astype(str).tolist()), '  ')\n",
    "\t\t\tprint('\\n')\n",
    "\t\t\t# print([start_state], [end_state], state.reshape(2,self.max_length-1, order='F'), )"
   ]
  },
  {
   "cell_type": "code",
   "execution_count": null,
   "metadata": {},
   "outputs": [],
   "source": [
    "def value_iter(t, p, r):\n",
    "  num_action = p.shape[2]\n",
    "  num_state = p.shape[1]\n",
    "  num_samples = p.shape[0]\n",
    "  H = (num_state + 1) / 2 # TODO: check\n",
    "  V = np.zeros((num_samples, num_state,))\n",
    "  for _ in range (H - 1, t-1, -1):\n",
    "    Q = r + np.sum(p * V, axis=-1)\n",
    "    V = np.amax(Q, axis=-1)\n",
    "#     Q = (p*(r + V[:,None]).transpose()[None]).sum(axis=-1) #shape: (state, actionn)\n",
    "#     V = Q.max(axis=-1) #(state,)\n",
    "  return Q, V"
   ]
  },
  {
   "cell_type": "markdown",
   "metadata": {},
   "source": [
    "## Information ratio"
   ]
  },
  {
   "cell_type": "markdown",
   "metadata": {},
   "source": [
    "We use Equation (17) in Reinforcement Learning, Bit by Bit to compute the information ratio:\n",
    "\\begin{equation}\n",
    "\\min_{\\nu\\in\\Delta_{\\mathcal{A}}}\\frac{\\mathbb{E}\\left[\\max_{a\\in\\mathcal{A}}\\hat{Q}_{*,t}(S_t,a) - \\hat{Q}_{*,t}(S_t,\\tilde{A}_t)\\right]^2}{\\mathbb{E}\\left[\\text{tr}\\left(\\text{Cov}\\left[\\hat{Q}_{\\dagger,t}(S_t,\\tilde{A}_t)\\mid X_t,\\tilde{A}_t,\\hat{\\pi}_t(\\cdot\\mid S_t)\\right]\\mid X_t,\\tilde{A}_t\\right)\\mid X_t\\right]}\n",
    "\\end{equation}\n",
    "Using convexity analysis in Russo & Van Roy (2014a, 2018), one can show that there exists a policy that randomizes between at most two actions. Therefore, we only need to iterate over pairs of actions $a_1,a_2$, and find the $\\alpha\\in[0,1]$ such that $\\nu$, where $\\nu(a_1)=\\alpha, \\nu(a_2)=1-\\alpha$, minimizes the above expression. For simplicity of notation, we define\n",
    "\\begin{align*}\n",
    "A_1 &= \\max_{a\\in\\mathcal{A}}\\hat{Q}_{*,t}(S_t,a) - \\hat{Q}_{*,t}(S_t,a_1)\\\\\n",
    "A_2 &= \\max_{a\\in\\mathcal{A}}\\hat{Q}_{*,t}(S_t,a) - \\hat{Q}_{*,t}(S_t,a_2)\\\\\n",
    "C_1 &= \\text{tr}\\left(\\text{Cov}\\left[\\hat{Q}_{\\dagger,t}(S_t,a_1)\\right]\\right)\\\\\n",
    "C_2 &= \\text{tr}\\left(\\text{Cov}\\left[\\hat{Q}_{\\dagger,t}(S_t,a_2)\\right]\\right)\n",
    "\\end{align*}\n",
    "Therefore, we want to find the optimal $\\alpha\\in[0,1]$ that minimizes\n",
    "\\begin{equation}\n",
    "f(\\alpha) = \\frac{\\mathbb{E}[\\alpha A_1 + (1-\\alpha)A_2]^2}{\\alpha C_1 + (1-\\alpha) C_2}.\n",
    "\\end{equation}\n",
    "Using algebra, we get that \n",
    "\\begin{equation}\n",
    "f'(\\alpha_0) = 0\\quad\\text{when}~\\alpha_0=\\frac{A_2C_1 - 2A_1C_2 + A_2C_2}{(C_1-C_2)(A_1-A_2)}\n",
    "\\end{equation}\n",
    "In particular, we only need to compare the following values\n",
    "\\begin{align*}\n",
    "f(0) &= \\frac{A_2^2}{C_2}\\\\\n",
    "f(1) &= \\frac{A_1^2}{C_1}\\\\\n",
    "f(\\alpha_0) &= \\frac{4(A_1-A_2)(A_2C_1-A_1C_2)}{(C_1-C_2)^2}\n",
    "\\end{align*}"
   ]
  },
  {
   "cell_type": "code",
   "execution_count": null,
   "metadata": {
    "id": "R0G7c0Hz9xSi"
   },
   "outputs": [],
   "source": [
    "def var_ids_action(rng, t, state, num_trans: np.ndarray, num_success: np.ndarray, num_failure: np.ndarray,\n",
    "                   num_good_obs: np.ndarray, num_bad_obs: np.ndarray, obs_masks: np.ndarray, num_sample: int = 32):\n",
    "  num_action = num_trans.shape[1]\n",
    "  num_state = num_trans.shape[0]\n",
    "#   num_action = len(num_success)\n",
    "\n",
    "#   p_samples = rng.beta(np.tile(num_success + 1, (num_sample, 1)), np.tile(num_failure + 1, (num_sample, 1)))\n",
    "  trans_shape = num_trans.shape\n",
    "  reward_shape = num_success.shape\n",
    "  p_samples = rng.dirichlet(np.tile(num_trans.reshape(-1), (num_sample, 1)))\n",
    "  r_samples = rng.beta(np.tile((num_success + 1).reshape(-1), (num_sample, 1)), np.tile((num_failure + 1).reshape(-1), (num_sample, 1)))\n",
    "  c_samples = rng.beta(np.tile((num_good_obs + 1).reshape(-1), (num_sample, 1)), np.tile((num_bad_obs + 1).reshape(-1), (num_sample, 1)))\n",
    "  \n",
    "  Q_hat, V_hat = value_iter(t, p_samples.reshape(num_sample, *trans_shape), r_samples.reshape(num_samples, *reward_shape))\n",
    "  Q_cross, _ = value_iter(t, p_samples.reshape(num_sample, *trans_shape), c_samples.reshape(num_samples, *reward_shape))\n",
    "\n",
    "  # Minimize information ratio over 2-sparse policies\n",
    "  info_ratio = np.zeros([num_action, num_action])\n",
    "  \n",
    "  A1 = (V_hat[:,state, None] - Q_hat[:,state,:]).mean(0)\n",
    "  A2 = A1\n",
    "  C1 = np.array([np.trace(np.cov(Q_cross[:,state,a])) for a in range(num_action)])\n",
    "  C2 = C1\n",
    "\n",
    "  f_alpha = 4*(A1[None,:] - A2[:,None])*(A2[:,None]*C1[None,:] - A1[None,:]*C2[:,None]) / (C1[None,:] - C2[:,None])**2\n",
    "  f_0 = np.tile(A2[:,None]**2 / C2[:,None], (1, num_action))\n",
    "  f_1 = np.tile(A1[None,:]**2 / C1[None,:], (num_action, 1))\n",
    "  alphas = (A2[:,None]*C1[None,:] - 2*A1[None,:]*C2[:,None] + np.tile(A2[:,None]*C2[:,None], (1, num_action))) / (C1[None,:] - C2[:,None])*(A1[None,:] - A2[:,None])\n",
    "  f_matrix = np.stack([f_0, f_alpha, f_1], axis=0)\n",
    "  index = np.argmax(f_matrix)\n",
    "  index = np.unravel_index(index, f_matrix.shape)\n",
    "  assert f_matrix[index[0],index[1],index[2]] == f_matrix.max()\n",
    "    \n",
    "  alpha = alphas[index[1], index[2]] if index[0] == 1 else index[0]\n",
    "  action = np.zeros(num_action)\n",
    "  action[index[1]] = alpha\n",
    "  action[index[2]] = 1 - alpha\n",
    "  \n",
    "  return rng.choice(np.arange(num_action), p=action)\n",
    "\n",
    "var_ids_agent = LearnFromObsAgent(compute_action=var_ids_action)"
   ]
  },
  {
   "cell_type": "code",
   "execution_count": null,
   "metadata": {
    "id": "f2avAnd18l-p"
   },
   "outputs": [],
   "source": [
    "class VarIDSAgent(Agent):\n",
    "  def __init__(self, compute_action):\n",
    "    self._compute_action = compute_action\n",
    "    self._state = 0\n",
    "    self._rng = None\n",
    "    \n",
    "  def reset(self, rng: np.random.Generator, obs_masks: np.ndarray):\n",
    "    self._obs_masks = obs_masks\n",
    "    self._num_action = 2\n",
    "    self._num_state = obs_masks.shape[0]\n",
    "    self._rng = rng\n",
    "    self._state = 0\n",
    "    \n",
    "    self._num_trans = np.ones(shape=(self._num_state, self._num_action, self._num_state,)) / self._num_state\n",
    "    self._num_success = np.zeros(shape=(self._num_state, self._num_action,))\n",
    "    self._num_failure = np.zeros(shape=(self._num_state, self._num_action,))\n",
    "    self._num_good_obs = np.zeros(shape=(self._num_state, self._num_action,))\n",
    "    self._num_bad_obs = np.zeros(shape=(self._num_state, self._num_action,))\n",
    "  \n",
    "  def update(self, action: int, next_state, obs: np.ndarray):\n",
    "    \n",
    "    self._num_trans[self.state, action, next_state] += 1\n",
    "    self._num_success[self.state, action] += obs[self.state, action]\n",
    "    self._num_failure[self.state, action] += 1 - obs[self.state, action]\n",
    "    self._num_good_obs += np.nan_to_num(obs)\n",
    "    self._num_bad_obs += np.nan_to_num(1 - obs)\n",
    "\n",
    "  def select_action(self, t: int):\n",
    "    return self._compute_action(self._rng, t, self._state, self._num_trans, self._num_success, self._num_failure,\n",
    "                                self.num_good_obs, self.num_bad_obs, self._obs_masks)"
   ]
  },
  {
   "cell_type": "code",
   "execution_count": null,
   "metadata": {
    "cellView": "form",
    "id": "dUS7vfAj5-XK"
   },
   "outputs": [],
   "source": [
    "#@title Utilities for running the experiments\n",
    "def run_graph_rl_experiment(\n",
    "    num_sims: int, \n",
    "    num_episodes: int, \n",
    "    agent,\n",
    "    plot_results=False):\n",
    "    \n",
    "  T = 7\n",
    "  env = Graph(max_length=T, rewarding_state=3)\n",
    "  \n",
    "  num_state = 2*T - 1\n",
    "  horizon = T - 1\n",
    "  num_action = 2\n",
    "  sims = range(num_sims)\n",
    "  episodes = range(num_episodes)\n",
    "  num_timesteps = num_episodes*horizon\n",
    "  actions = list(range(num_action))\n",
    "\n",
    "  action_count = []\n",
    "  \n",
    "  for sim in sims:\n",
    "    rng = np.random.default_rng(sim)\n",
    "    \n",
    "    agent.reset(rng, obs_masks)\n",
    "    action_count += [[num_timesteps*[0] for a in actions]]\n",
    "    for episode in episodes:\n",
    "      a = agent.select_action() \n",
    "      # Generate observation for all arms.\n",
    "      obs = \n",
    "      # Mask the arms that are not observed.\n",
    "      mask = \n",
    "      obs[np.logical_not(mask)] = np.nan\n",
    "      agent.update(a, obs)\n",
    "\n",
    "      action_count[sim][a][timestep] = 1\n",
    "\n",
    "  action_count1 = [[float(action_count[0][a][t]) \n",
    "    for t in range(num_timesteps)] for a in actions]\n",
    "  action_count = [[sum([float(action_count[sim][a][t]) \n",
    "    for sim in sims]) / num_sims \n",
    "    for t in range(num_timesteps)] for a in actions]\n",
    "\n",
    "  # plot action frequencies averaged over simulations\n",
    "  for a in actions:\n",
    "    plt.plot(timesteps,\n",
    "             pd.Series(action_count[a]).rolling(10, min_periods=1).mean(),\n",
    "             colors[a], label='$a =$' + str(a+1))\n",
    "  plt.axis([0,num_timesteps+1,0.0,1.01])\n",
    "  plt.xlabel(r'time $t$', fontsize=20)\n",
    "  plt.ylabel('$\\mathbb{P}(A_t = a|\\mathcal{E})$', fontsize=20)\n",
    "#  plt.ylabel('$\\mathrm{E}[N_{t,a} - N_{t-1,a}|\\mathcal{E}]$', fontsize=20)\n",
    "  pylab.legend(loc='best')\n",
    "  plt.show()\n",
    "\n",
    "  # plot action counts over single simulation\n",
    "  for a in actions:\n",
    "    plt.plot(timesteps, np.cumsum(action_count1[a]), colors[a], label='$a =$' + str(a+1))\n",
    "  plt.axis([0,num_timesteps+1,0.0,num_timesteps+1])\n",
    "  plt.xlabel(r'time $t$', fontsize=20)\n",
    "  plt.ylabel('$N_{t,a}$', fontsize=20)\n",
    "  pylab.legend(loc='best')\n",
    "  plt.show()\n",
    "\n",
    "  # plot action counts averaged over simulations\n",
    "  for a in actions:\n",
    "    plt.plot(timesteps, np.cumsum(action_count[a]), colors[a], label='$a =$' + str(a+1))\n",
    "  plt.axis([0,num_timesteps+1,0.0,num_timesteps+1])\n",
    "  plt.xlabel(r'time $t$', fontsize=20)\n",
    "  plt.ylabel('$\\mathrm{E}[N_{t,a}|\\mathcal{E}]$', fontsize=20)\n",
    "  pylab.legend(loc='best')\n",
    "  plt.show()\n",
    "\n",
    "  return action_count\n"
   ]
  },
  {
   "cell_type": "code",
   "execution_count": null,
   "metadata": {
    "id": "PZRuzA1D02yJ"
   },
   "outputs": [],
   "source": [
    "#@title TS agent that learns from reward.\n",
    "num_sims = 1000 # number of simulations over which to average\n",
    "num_timesteps = 1000 # number of time steps to simulate\n",
    "\n",
    "action_count_ts_reward = run_bernoulli_bandit_experiment(\n",
    "    num_sims, \n",
    "    num_timesteps, \n",
    "    agent=ts_learn_from_reward,\n",
    "    plot_results=True)"
   ]
  },
  {
   "cell_type": "markdown",
   "metadata": {
    "id": "mIf6tVuICrxR"
   },
   "source": [
    "# Interfaces, utilities and experiment constants"
   ]
  },
  {
   "cell_type": "code",
   "execution_count": null,
   "metadata": {
    "id": "WN2acQTg6dIW"
   },
   "outputs": [],
   "source": [
    "#@title Agent interface\n",
    "class Agent(metaclass=abc.ABCMeta):\n",
    "\n",
    "  @abc.abstractmethod\n",
    "  def reset(self, rng: np.random.Generator, obs_masks: np.ndarray) -> None:\n",
    "    # Reset the agent.\n",
    "    raise NotImplementedError\n",
    "\n",
    " \n",
    "  @abc.abstractmethod\n",
    "  def update(self, action: int, obs: np.ndarray) -> None:\n",
    "    # Update agent state.\n",
    "    raise NotImplementedError\n",
    "\n",
    "  @abc.abstractmethod\n",
    "  def select_action(self) -> int:\n",
    "    # Select an action.\n",
    "    raise NotImplementedError"
   ]
  },
  {
   "cell_type": "code",
   "execution_count": null,
   "metadata": {
    "id": "-HEMiPCyDS_s"
   },
   "outputs": [],
   "source": [
    "#@title Experiment constants\n",
    "MEANS = [0.55, 0.5, 0.6, 0.45, 0.55, 0.4]\n",
    "OBS_MASKS = np.array([[1, 1, 1, 0, 1, 0],\n",
    "                      [0, 1, 0, 1, 0, 0], \n",
    "                      [1, 0, 1, 0, 0, 0],\n",
    "                      [0, 0, 1, 1, 0, 1],\n",
    "                      [0, 0, 0, 0, 1, 0],\n",
    "                      [0, 1, 0, 0, 0, 1],\n",
    "                      ])"
   ]
  },
  {
   "cell_type": "code",
   "execution_count": null,
   "metadata": {
    "cellView": "form",
    "id": "dUS7vfAj5-XK"
   },
   "outputs": [],
   "source": [
    "#@title Utilities for running the experiments\n",
    "\n",
    "def random_argmax(rng, scores: np.ndarray):\n",
    "  probs = (scores==scores.max()).astype(np.float32)\n",
    "  probs /= probs.sum()\n",
    "  return rng.choice(np.arange(scores.size), p=probs)\n",
    "\n",
    "\n",
    "def run_bernoulli_bandit_experiment(\n",
    "    num_sims: int, \n",
    "    num_timesteps: int, \n",
    "    agent,\n",
    "    means: np.ndarray = MEANS,\n",
    "    obs_masks: np.ndarray = OBS_MASKS,\n",
    "    plot_results=False):\n",
    "                              \n",
    "  obs_masks = obs_masks.astype(bool)\n",
    "  num_action = len(means)\n",
    "  sims = range(num_sims)\n",
    "  timesteps = range(num_timesteps)\n",
    "  actions = list(range(num_action))\n",
    "\n",
    "  action_count = []\n",
    "  p = means[:]\n",
    "\n",
    "  for sim in sims:\n",
    "    rng = np.random.default_rng(sim)\n",
    "    agent.reset(rng, obs_masks)\n",
    "    action_count += [[num_timesteps*[0] for a in actions]]\n",
    "    for timestep in timesteps:\n",
    "      a = agent.select_action() \n",
    "      # Generate observation for all arms.\n",
    "      obs = rng.binomial(1,p).astype(float)\n",
    "      # Mask the arms that are not observed.\n",
    "      mask = obs_masks[a, :]\n",
    "      obs[np.logical_not(mask)] = np.nan\n",
    "      agent.update(a, obs)\n",
    "\n",
    "      action_count[sim][a][timestep] = 1\n",
    "\n",
    "  action_count1 = [[float(action_count[0][a][t]) \n",
    "    for t in range(num_timesteps)] for a in actions]\n",
    "  action_count = [[sum([float(action_count[sim][a][t]) \n",
    "    for sim in sims]) / num_sims \n",
    "    for t in range(num_timesteps)] for a in actions]\n",
    "\n",
    "  # plot action frequencies averaged over simulations\n",
    "  for a in actions:\n",
    "    plt.plot(timesteps,\n",
    "             pd.Series(action_count[a]).rolling(10, min_periods=1).mean(),\n",
    "             colors[a], label='$a =$' + str(a+1))\n",
    "  plt.axis([0,num_timesteps+1,0.0,1.01])\n",
    "  plt.xlabel(r'time $t$', fontsize=20)\n",
    "  plt.ylabel('$\\mathbb{P}(A_t = a|\\mathcal{E})$', fontsize=20)\n",
    "#  plt.ylabel('$\\mathrm{E}[N_{t,a} - N_{t-1,a}|\\mathcal{E}]$', fontsize=20)\n",
    "  pylab.legend(loc='best')\n",
    "  plt.show()\n",
    "\n",
    "  # plot action counts over single simulation\n",
    "  for a in actions:\n",
    "    plt.plot(timesteps, np.cumsum(action_count1[a]), colors[a], label='$a =$' + str(a+1))\n",
    "  plt.axis([0,num_timesteps+1,0.0,num_timesteps+1])\n",
    "  plt.xlabel(r'time $t$', fontsize=20)\n",
    "  plt.ylabel('$N_{t,a}$', fontsize=20)\n",
    "  pylab.legend(loc='best')\n",
    "  plt.show()\n",
    "\n",
    "  # plot action counts averaged over simulations\n",
    "  for a in actions:\n",
    "    plt.plot(timesteps, np.cumsum(action_count[a]), colors[a], label='$a =$' + str(a+1))\n",
    "  plt.axis([0,num_timesteps+1,0.0,num_timesteps+1])\n",
    "  plt.xlabel(r'time $t$', fontsize=20)\n",
    "  plt.ylabel('$\\mathrm{E}[N_{t,a}|\\mathcal{E}]$', fontsize=20)\n",
    "  pylab.legend(loc='best')\n",
    "  plt.show()\n",
    "\n",
    "  return action_count\n"
   ]
  },
  {
   "cell_type": "markdown",
   "metadata": {
    "id": "oQEacARwDceW"
   },
   "source": [
    "# Learning from reward vs learning from obervation"
   ]
  },
  {
   "cell_type": "code",
   "execution_count": null,
   "metadata": {
    "id": "99LxxEixllEs"
   },
   "outputs": [],
   "source": [
    "#@title An agent that learns from reward\n",
    "class LearnFromRewardAgent(Agent):\n",
    "  def __init__(self, compute_action):\n",
    "    self._compute_action = compute_action\n",
    "    self._rng = None\n",
    "\n",
    "  def reset(self, rng: np.random.Generator, obs_masks: np.ndarray):\n",
    "    self._obs_masks = obs_masks\n",
    "    self._num_action = obs_masks.shape[0]\n",
    "    self._rng = rng\n",
    "    self._num_success = np.zeros(shape=(self._num_action,))\n",
    "    self._num_failure = np.zeros(shape=(self._num_action,))\n",
    "  \n",
    "  def update(self, action: int, obs: np.ndarray):\n",
    "    self._num_success[action] += obs[action]\n",
    "    self._num_failure[action] += 1 - obs[action]\n",
    "\n",
    "  def select_action(self):\n",
    "    return self._compute_action(self._rng, self._num_success, self._num_failure, \n",
    "                                self._obs_masks)\n"
   ]
  },
  {
   "cell_type": "code",
   "execution_count": null,
   "metadata": {
    "id": "f2avAnd18l-p"
   },
   "outputs": [],
   "source": [
    "class LearnFromObsAgent(Agent):\n",
    "  def __init__(self, compute_action):\n",
    "    self._compute_action = compute_action\n",
    "    self._rng = None\n",
    "\n",
    "  def reset(self, rng: np.random.Generator, obs_masks: np.ndarray):\n",
    "    self._obs_masks = obs_masks\n",
    "    self._num_action = obs_masks.shape[0]\n",
    "    self._rng = rng\n",
    "    self._num_success = np.zeros(shape=(self._num_action,))\n",
    "    self._num_failure = np.zeros(shape=(self._num_action,))\n",
    "  \n",
    "  def update(self, action: int, obs: np.ndarray):\n",
    "    self._num_success += np.nan_to_num(obs)\n",
    "    self._num_failure += np.nan_to_num(1 - obs)\n",
    "\n",
    "  def select_action(self):\n",
    "    return self._compute_action(self._rng, self._num_success, self._num_failure, \n",
    "                                self._obs_masks)\n"
   ]
  },
  {
   "cell_type": "code",
   "execution_count": null,
   "metadata": {
    "id": "j-65BTMUASNu"
   },
   "outputs": [],
   "source": [
    "def ts_action(rng, num_successe: np.ndarray, num_failure: np.ndarray,\n",
    "              obs_masks: Optional[np.ndarray] = None):\n",
    "  del obs_masks\n",
    "  p_hat = rng.beta(num_successe+1, num_failure+1)\n",
    "  return random_argmax(rng, p_hat)\n",
    "\n",
    "ts_learn_from_reward = LearnFromRewardAgent(compute_action=ts_action)\n",
    "ts_learn_from_obs = LearnFromObsAgent(compute_action=ts_action)"
   ]
  },
  {
   "cell_type": "markdown",
   "metadata": {
    "id": "7gU88tXcDj4a"
   },
   "source": [
    "## Question 1\n",
    "You just need to run the following cell to experiment with the TS agent that learns from reward."
   ]
  },
  {
   "cell_type": "code",
   "execution_count": null,
   "metadata": {
    "id": "PZRuzA1D02yJ"
   },
   "outputs": [],
   "source": [
    "#@title TS agent that learns from reward.\n",
    "num_sims = 1000 # number of simulations over which to average\n",
    "num_timesteps = 1000 # number of time steps to simulate\n",
    "\n",
    "action_count_ts_reward = run_bernoulli_bandit_experiment(\n",
    "    num_sims, \n",
    "    num_timesteps, \n",
    "    agent=ts_learn_from_reward,\n",
    "    plot_results=True)"
   ]
  },
  {
   "cell_type": "markdown",
   "metadata": {
    "id": "7G4mUQxjDzG4"
   },
   "source": [
    "## Question 2\n",
    "Implement the `update` method for `LearnFromObsAgent` and then run the following cess to run an experiment with TS agent that learns from observation. You may want to set `num_sims=1` while you are testing your code to iterate faster. Set it back to `num_sims=1000` for your final run before submitting your solution."
   ]
  },
  {
   "cell_type": "code",
   "execution_count": null,
   "metadata": {
    "colab": {
     "background_save": true
    },
    "id": "U8VXWp4K_K08",
    "outputId": "60587d5a-9136-4dda-fad9-f35f6293b4f3"
   },
   "outputs": [
    {
     "data": {
      "image/png": "[encoded data removed]",
      "text/plain": [
       "<Figure size 432x288 with 1 Axes>"
      ]
     },
     "metadata": {},
     "output_type": "display_data"
    },
    {
     "data": {
      "image/png": "[encoded data removed]",
      "text/plain": [
       "<Figure size 432x288 with 1 Axes>"
      ]
     },
     "metadata": {},
     "output_type": "display_data"
    },
    {
     "data": {
      "image/png": "[encoded data removed]",
      "text/plain": [
       "<Figure size 432x288 with 1 Axes>"
      ]
     },
     "metadata": {},
     "output_type": "display_data"
    }
   ],
   "source": [
    "#@title TS agent that learns from observation.\n",
    "\n",
    "num_sims = 1000 # number of simulations over which to average\n",
    "num_timesteps = 1000 # number of time steps to simulate\n",
    "\n",
    "action_count_ts_obs = run_bernoulli_bandit_experiment(\n",
    "    num_sims, \n",
    "    num_timesteps, \n",
    "    agent=ts_learn_from_obs,\n",
    "    plot_results=True)"
   ]
  },
  {
   "cell_type": "markdown",
   "metadata": {
    "id": "3azkoHrXEhWA"
   },
   "source": [
    "# Information directed sampling"
   ]
  },
  {
   "cell_type": "markdown",
   "metadata": {
    "id": "TsEaOjtKG-kw"
   },
   "source": [
    "For the IDS action selection we need to compute the mutual information \n",
    "\\begin{align}\n",
    "\\textrm{I}(\\theta; O_{t+1} | H_t=H_t, A_t=a) &= \\sum_{n = 1}^{N} \\textrm{I}(\\theta_n; O_{t+1, n} | H_t=H_t, A_t=a) \\\\\n",
    "& = \\sum_{n = 1}^{N} \\textrm{h}(\\theta_n|H_t=H_t, A_t=a) - \\textrm{h}(\\theta_n|H_t=H_t, A_t=a, O_{t+1, n})\\\\\n",
    "& = \\sum_{n = 1}^{N} \\left\\{ \\textrm{h}(\\theta_n|H_t=H_t) - \\sum_{o = \\{1, 2\\}} \\Pr(O_{t+1, n}=o) \\, \\textrm{h}(\\theta_n|H_t=H_t, A_t=a, O_{t+1, n}=o) \\right\\}\\\\\n",
    "\\end{align}"
   ]
  },
  {
   "cell_type": "markdown",
   "metadata": {
    "id": "qBDkezAFH2ex"
   },
   "source": [
    "## Question 3\n",
    "\n",
    "The function `beta_bern_mutual_info` implements this mutual information $\\mathrm{I}(p; O)$ between two random variables $p \\sim \\mathrm{Beta}(a, b)$ and $O \\sim \\mathrm{Bernoulli}(p)$. Use this function to implement the IDS action selection. (Note that in `beta_bern_mutual_info` the Beta parameter `a = num_success + 1`)\n"
   ]
  },
  {
   "cell_type": "code",
   "execution_count": null,
   "metadata": {
    "colab": {
     "background_save": true
    },
    "id": "QAvFK5heGiZZ"
   },
   "outputs": [],
   "source": [
    "def beta_bern_mutual_info(num_success: np.ndarray, num_failure: np.ndarray):\n",
    "  a = num_success + 1\n",
    "  b = num_failure + 1\n",
    "  conditional_entropy = beta.mean(a, b) * beta.entropy(a + 1, b) + (1 - beta.mean(a, b)) * beta.entropy(a, b + 1)\n",
    "  return beta.entropy(a, b) - conditional_entropy\n",
    "\n",
    "def ids_action(rng, num_success: np.ndarray, num_failure: np.ndarray,\n",
    "               obs_masks: np.ndarray):\n",
    "  mutual_infos = beta_bern_mutual_info(num_success, num_failure)\n",
    "  partial_obs_mutal_info = np.sum(mutual_infos[np.newaxis, :] * obs_masks, axis=1)\n",
    "  p_samples = rng.beta(np.tile(num_success + 1, (10, 1)), np.tile(num_failure + 1, (10, 1)))\n",
    "  shortfalls = (np.max(p_samples, axis=1, keepdims=True) - p_samples).mean(axis=0)\n",
    "  info_ratio = shortfalls**2 / (partial_obs_mutal_info + 1e-9)\n",
    "  return random_argmax(rng, -info_ratio)\n",
    "\n",
    "ids_agent = LearnFromObsAgent(compute_action=ids_action)"
   ]
  },
  {
   "cell_type": "code",
   "execution_count": null,
   "metadata": {
    "id": "sJQY47QmCJL5"
   },
   "outputs": [],
   "source": [
    "#@title Run the experiment for the IDS agent \n",
    "\n",
    "num_sims = 20 # number of simulations over which to average\n",
    "num_timesteps = 1000 # number of time steps to simulate\n",
    "\n",
    "action_count_ids = run_bernoulli_bandit_experiment(\n",
    "    num_sims, \n",
    "    num_timesteps, \n",
    "    agent=ids_agent,\n",
    "    plot_results=True)"
   ]
  },
  {
   "cell_type": "markdown",
   "metadata": {
    "id": "J_xXvIYyIQ5T"
   },
   "source": [
    "## Question 4\n",
    "If we change the learning target to be the optimal action instead of the environment parameter the mutual information is not easy to compute. Implement the sample based variance IDS agent discussed in Lecture 9. Note that the observation is a vector in this case. Compute the variances of conditional expectation for each observation dimension and take the sum of all these variances as the information gain surrogate. (You can vectorize this operation, you don't need to do it in a for loop for each dimension separatly. However, for loop is fine but it is going to be slow)."
   ]
  },
  {
   "cell_type": "code",
   "execution_count": null,
   "metadata": {
    "id": "R0G7c0Hz9xSi"
   },
   "outputs": [],
   "source": [
    "def var_ids_action(rng, num_success: np.ndarray, num_failure: np.ndarray,\n",
    "                   obs_masks: np.ndarray, num_sample: int = 32):\n",
    "  num_action = len(num_success)\n",
    "  p_samples = rng.beta(np.tile(num_success + 1, (num_sample, 1)), np.tile(num_failure + 1, (num_sample, 1)))\n",
    "  shortfalls = (np.max(p_samples, axis=1, keepdims=True) - p_samples).mean(axis=0)\n",
    "\n",
    "  # Compute variance of conditional means using samples.\n",
    "  df = pd.DataFrame(p_samples, columns=range(num_action))\n",
    "  df_mean = df.mean()\n",
    "  df['opt_action'] = df.apply(lambda x: random_argmax(rng, x), axis=1)\n",
    "  df_cond_mean = df.groupby('opt_action').mean()\n",
    "  opt_action_prob = df.opt_action.value_counts(normalize=True, sort=False)\n",
    "  var_cond_mean = (\n",
    "      df_cond_mean.apply(lambda x: x - df_mean, axis=1) ** 2\n",
    "  ).apply(\n",
    "      lambda x: np.sum(x * opt_action_prob), axis=0\n",
    "      ).sort_index().to_numpy()\n",
    "  # to gaurd against the case where all samples have the same opt action. \n",
    "  var_cond_mean = np.nan_to_num(var_cond_mean) \n",
    "  var_trace = np.sum(var_cond_mean[np.newaxis, :] * obs_masks, axis=1)\n",
    "  info_ratio = shortfalls**2 / (var_trace + 1e-9)\n",
    "  return random_argmax(rng, -info_ratio)\n",
    "\n",
    "var_ids_agent = LearnFromObsAgent(compute_action=var_ids_action)"
   ]
  },
  {
   "cell_type": "code",
   "execution_count": null,
   "metadata": {
    "colab": {
     "background_save": true
    },
    "id": "M4yILyEsCKHh"
   },
   "outputs": [],
   "source": [
    "#@title Run the experiment for the variance IDS agent. \n",
    "\n",
    "num_sims = 20 # number of simulations over which to average\n",
    "num_timesteps = 1000 # number of time steps to simulate\n",
    "\n",
    "action_count_var_ids = run_bernoulli_bandit_experiment(\n",
    "    num_sims, \n",
    "    num_timesteps, \n",
    "    agent=var_ids_agent,\n",
    "    plot_results=True)"
   ]
  },
  {
   "cell_type": "code",
   "execution_count": null,
   "metadata": {
    "colab": {
     "background_save": true
    },
    "id": "jqSz7i5w1EPa"
   },
   "outputs": [],
   "source": [
    "def cregret_from_acount(action_count: np.ndarray):\n",
    "  \"\"\"Compute expected cumulative regret from action count.\"\"\"\n",
    "  exp_rew = (action_count * np.array(MEANS)[:, np.newaxis]).sum(axis=0)\n",
    "  exp_cumulative_rew = np.cumsum(exp_rew)\n",
    "  exp_opt_cumulative_rew = max(MEANS) * np.arange(len(exp_cumulative_rew))\n",
    "  return exp_opt_cumulative_rew - exp_cumulative_rew\n",
    "\n",
    "regret_df = pd.DataFrame({\n",
    "    'ts_obs': cregret_from_acount(np.array(action_count_ts_obs)),\n",
    "    'ts_reward': cregret_from_acount(np.array(action_count_ts_reward)),\n",
    "    'ids': cregret_from_acount(np.array(action_count_ids)),\n",
    "    'var_ids': cregret_from_acount(np.array(action_count_var_ids)),\n",
    "})\n",
    "\n",
    "regret_df = regret_df.reset_index().rename({'index': 'timestep'}, axis=1)\n",
    "regret_df = regret_df.melt(var_name='agent', value_name='cumulative_regert', \n",
    "                           id_vars=['timestep'])\n",
    "p = (\n",
    "    gg.ggplot(regret_df) \n",
    "    + gg.aes(x='timestep', y='cumulative_regert', color='agent')\n",
    "    + gg.geom_line()\n",
    ")\n",
    "p"
   ]
  }
 ],
 "metadata": {
  "colab": {
   "collapsed_sections": [],
   "name": "midterm P4 solution.ipynb",
   "provenance": [],
   "toc_visible": true
  },
  "kernelspec": {
   "display_name": "Python 3 (ipykernel)",
   "language": "python",
   "name": "python3"
  },
  "language_info": {
   "codemirror_mode": {
    "name": "ipython",
    "version": 3
   },
   "file_extension": ".py",
   "mimetype": "text/x-python",
   "name": "python",
   "nbconvert_exporter": "python",
   "pygments_lexer": "ipython3",
   "version": "3.9.7"
  }
 },
 "nbformat": 4,
 "nbformat_minor": 1
}
